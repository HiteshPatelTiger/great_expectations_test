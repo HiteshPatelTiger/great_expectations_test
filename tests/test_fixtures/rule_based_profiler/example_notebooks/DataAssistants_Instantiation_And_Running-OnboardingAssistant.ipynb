{
 "cells": [
  {
   "cell_type": "markdown",
   "id": "834eb3b0",
   "metadata": {},
   "source": [
    "# How to use `DataAssistants`\n",
    "\n",
    "* A `DataAssistant` enables you to quickly profile your data by providing a thin API over a pre-constructed `RuleBasedProfiler` configuration.\n",
    "* As a result of the profiling, you get back a result object consisting of \n",
    "    * `Metrics` that describe the current state of the data\n",
    "    * `Expectations` that are able to alert you if the data deviates from the expected state in the future. \n",
    "    \n",
    "* `DataAssistant` results can also be plotted to help you understand their data visually.\n",
    "* There are multiple `DataAssistants` centered around a theme (volume, nullity etc), and this notebook walks you through an example `OnboardingDataAssistant` that is centered around basic statistical analysis including mean, median and standard deviation to showcase the potential of this new interface."
   ]
  },
  {
   "cell_type": "markdown",
   "id": "26b3aab6",
   "metadata": {},
   "source": [
    "The `OnboardingDataAssistant` is considered to be the \"starting point\" for profililng and is generally applicable for numerical data.  In our example we will be using `taxi_trip` data, building our `ExpectationSuite` using data from 2018-2019, and running it against January 2020 data, to see if our more-recent data falls within the range of previous years.\n",
    "\n",
    "In our example, the `OnboardingDataAssistant` will take in a `batch_request` describing data from 2018-2019 and calculating upper and lower bounds for the following `Expectations` across the sample `Batches` using a  bootstrapping step. The bootstrapping step allows the `DataAssistant` to account for outliers, and allows it to obtain a more accurate estimate of the true ranges by taking into account the underlying distribution. \n",
    "\n",
    "* `expect_table_columns_to_match_set` \n",
    "* `expect_table_row_count_to_be_between`\n",
    "* `expect_column_min_to_be_between`\n",
    "* `expect_column_max_to_be_between`\n",
    "* `expect_column_mean_to_be_between`\n",
    "* `expect_column_median_to_be_between`\n",
    "* `expect_column_stdev_to_be_between`"
   ]
  },
  {
   "cell_type": "code",
   "execution_count": 15,
   "id": "8362d4be",
   "metadata": {},
   "outputs": [],
   "source": [
    "import great_expectations as ge\n",
    "from great_expectations.core.yaml_handler import YAMLHandler\n",
    "from great_expectations.core.batch import BatchRequest\n",
    "from great_expectations.core import ExpectationSuite\n",
    "from great_expectations.core.expectation_configuration import ExpectationConfiguration\n",
    "from great_expectations.validator.validator import Validator\n",
    "from great_expectations.rule_based_profiler.data_assistant import (\n",
    "    DataAssistant,\n",
    "    VolumeDataAssistant,\n",
    ")\n",
    "from great_expectations.rule_based_profiler.data_assistant_result import (\n",
    "    VolumeDataAssistantResult,\n",
    ")\n",
    "from typing import List\n",
    "yaml = YAMLHandler()"
   ]
  },
  {
   "cell_type": "markdown",
   "id": "247a6073",
   "metadata": {},
   "source": [
    "## Set-up: Adding `taxi_data` `Datasource`\n",
    "* Add `taxi_data` as a new `Datasource`\n",
    "* We are using an `InferredAssetFilesystemDataConnector` to connect to data in the `test_sets/taxi_yellow_tripdata_samples` folder and get one `DataAsset` (`yellow_tripdata_sample`) that has 24 Batches, corresponding to one batch per month from 2018-2019."
   ]
  },
  {
   "cell_type": "markdown",
   "id": "52208ac8-90eb-4138-9d99-d6372395112f",
   "metadata": {},
   "source": [
    "* We will later be using this to run a checkpoint on 2020"
   ]
  },
  {
   "cell_type": "code",
   "execution_count": 16,
   "id": "76dcee57",
   "metadata": {},
   "outputs": [],
   "source": [
    "data_context: ge.DataContext = ge.get_context()"
   ]
  },
  {
   "cell_type": "code",
   "execution_count": 20,
   "id": "a29fd9a3",
   "metadata": {},
   "outputs": [
    {
     "name": "stdout",
     "output_type": "stream",
     "text": [
      "Attempting to instantiate class from config...\n",
      "\tInstantiating as a Datasource, since class_name is Datasource\n",
      "\tSuccessfully instantiated Datasource\n",
      "\n",
      "\n",
      "ExecutionEngine class name: PandasExecutionEngine\n",
      "Data Connectors:\n",
      "\tconfigured_data_connector_multi_batch_asset : ConfiguredAssetFilesystemDataConnector\n",
      "\n",
      "\tAvailable data_asset_names (2 of 2):\n",
      "\t\tyellow_tripdata_20182019 (3 of 24): ['yellow_tripdata_sample_2018-01.csv', 'yellow_tripdata_sample_2018-02.csv', 'yellow_tripdata_sample_2018-03.csv']\n",
      "\t\tyellow_tripdata_all_years (3 of 36): ['yellow_tripdata_sample_2018-01.csv', 'yellow_tripdata_sample_2018-02.csv', 'yellow_tripdata_sample_2018-03.csv']\n",
      "\n",
      "\tUnmatched data_references (3 of 68):['.DS_Store', 'first_3_files', 'first_3_files/.DS_Store']\n",
      "\n"
     ]
    },
    {
     "data": {
      "text/plain": [
       "<great_expectations.datasource.new_datasource.Datasource at 0x7fe233c53c70>"
      ]
     },
     "execution_count": 20,
     "metadata": {},
     "output_type": "execute_result"
    }
   ],
   "source": [
    "data_path: str = \"../../../../test_sets/taxi_yellow_tripdata_samples\"\n",
    "\n",
    "datasource_config: dict = {\n",
    "    \"name\": \"taxi_data_all_years\",\n",
    "    \"class_name\": \"Datasource\",\n",
    "    \"module_name\": \"great_expectations.datasource\",\n",
    "    \"execution_engine\": {\n",
    "        \"module_name\": \"great_expectations.execution_engine\",\n",
    "        \"class_name\": \"PandasExecutionEngine\",\n",
    "    },\n",
    "    \"data_connectors\": {\n",
    "        \"configured_data_connector_multi_batch_asset\": {\n",
    "            \"class_name\": \"ConfiguredAssetFilesystemDataConnector\",\n",
    "            \"base_directory\": data_path,\n",
    "            \"assets\":{\n",
    "                \"yellow_tripdata_20182019\":{\n",
    "                    \"group_names\": [\"year\", \"month\"],\n",
    "                    \"pattern\": \"yellow_tripdata_sample_(2018|2019)-(\\\\d.*)\\\\.csv\",\n",
    "                },\n",
    "                \"yellow_tripdata_all_years\":{\n",
    "                    \"group_names\": [\"year\", \"month\"],\n",
    "                    \"pattern\": \"yellow_tripdata_sample_(2018|2019|2020)-(\\\\d.*)\\\\.csv\",\n",
    "                }\n",
    "            },\n",
    "        },\n",
    "    },\n",
    "}\n",
    "\n",
    "data_context.test_yaml_config(yaml.dump(datasource_config))"
   ]
  },
  {
   "cell_type": "code",
   "execution_count": 21,
   "id": "ee0be5a2",
   "metadata": {},
   "outputs": [],
   "source": [
    "# add_datasource only if it doesn't already exist in our configuration\n",
    "try:\n",
    "    data_context.get_datasource(datasource_config[\"name\"])\n",
    "except ValueError:\n",
    "    data_context.add_datasource(**datasource_config)"
   ]
  },
  {
   "cell_type": "markdown",
   "id": "a4aa73e4",
   "metadata": {},
   "source": [
    "#  Configure `BatchRequest`"
   ]
  },
  {
   "cell_type": "markdown",
   "id": "61e86821",
   "metadata": {},
   "source": [
    "In this example, we will be using a `BatchRequest` that will return all 36 batches of data from the `taxi_data` dataset.  We will refer to the `Datasource` and `DataConnector` configured in the previous step. "
   ]
  },
  {
   "cell_type": "code",
   "execution_count": 22,
   "id": "b790e8b2",
   "metadata": {},
   "outputs": [],
   "source": [
    "multi_batch_all_years_batch_request: BatchRequest = BatchRequest(\n",
    "    datasource_name=\"taxi_data_all_years\",\n",
    "    data_connector_name=\"configured_data_connector_multi_batch_asset\",\n",
    "    data_asset_name=\"yellow_tripdata_20182019\",\n",
    ")"
   ]
  },
  {
   "cell_type": "code",
   "execution_count": 23,
   "id": "da5b6cf0",
   "metadata": {},
   "outputs": [],
   "source": [
    "batch_request: BatchRequest = multi_batch_all_years_batch_request"
   ]
  },
  {
   "cell_type": "code",
   "execution_count": 25,
   "id": "0f09894b-8b27-4159-ad7c-ea786b9da396",
   "metadata": {},
   "outputs": [],
   "source": [
    "batch_list = data_context.get_batch_list(batch_request=batch_request)"
   ]
  },
  {
   "cell_type": "code",
   "execution_count": 27,
   "id": "d564f515-ff0d-4218-b568-542e83fa6f2d",
   "metadata": {},
   "outputs": [
    {
     "data": {
      "text/plain": [
       "[<great_expectations.core.batch.Batch at 0x7fe236fadf10>,\n",
       " <great_expectations.core.batch.Batch at 0x7fe2352fba30>,\n",
       " <great_expectations.core.batch.Batch at 0x7fe236f9e190>,\n",
       " <great_expectations.core.batch.Batch at 0x7fe236f91e50>,\n",
       " <great_expectations.core.batch.Batch at 0x7fe236f76280>,\n",
       " <great_expectations.core.batch.Batch at 0x7fe2388ac820>,\n",
       " <great_expectations.core.batch.Batch at 0x7fe238b08be0>,\n",
       " <great_expectations.core.batch.Batch at 0x7fe238b9cf40>,\n",
       " <great_expectations.core.batch.Batch at 0x7fe238cfa3a0>,\n",
       " <great_expectations.core.batch.Batch at 0x7fe238e51760>,\n",
       " <great_expectations.core.batch.Batch at 0x7fe238faab20>,\n",
       " <great_expectations.core.batch.Batch at 0x7fe239b2aee0>,\n",
       " <great_expectations.core.batch.Batch at 0x7fe239c872e0>,\n",
       " <great_expectations.core.batch.Batch at 0x7fe23a41a6a0>,\n",
       " <great_expectations.core.batch.Batch at 0x7fe23a06ea60>,\n",
       " <great_expectations.core.batch.Batch at 0x7fe23a1cdfd0>,\n",
       " <great_expectations.core.batch.Batch at 0x7fe23a1c7e20>,\n",
       " <great_expectations.core.batch.Batch at 0x7fe23a8875e0>,\n",
       " <great_expectations.core.batch.Batch at 0x7fe23aa1e9a0>,\n",
       " <great_expectations.core.batch.Batch at 0x7fe23acded90>,\n",
       " <great_expectations.core.batch.Batch at 0x7fe23ace3f70>,\n",
       " <great_expectations.core.batch.Batch at 0x7fe23b35c5b0>,\n",
       " <great_expectations.core.batch.Batch at 0x7fe23b4b59a0>,\n",
       " <great_expectations.core.batch.Batch at 0x7fe23b860d90>]"
      ]
     },
     "execution_count": 27,
     "metadata": {},
     "output_type": "execute_result"
    }
   ],
   "source": [
    "batch_list # len = 24"
   ]
  },
  {
   "cell_type": "markdown",
   "id": "f9a38c3a",
   "metadata": {},
   "source": [
    "# Run the `VolumeDataAssistant`"
   ]
  },
  {
   "cell_type": "markdown",
   "id": "4c1b2796",
   "metadata": {},
   "source": [
    "* The `VolumeDataAssistant` can be run directly from the `DataContext` by specifying `assistants` and `onboarding`, and passing in the `BatchRequest` from the previous step."
   ]
  },
  {
   "cell_type": "code",
   "execution_count": 28,
   "id": "bcf75460",
   "metadata": {},
   "outputs": [
    {
     "name": "stdout",
     "output_type": "stream",
     "text": [
      "\n"
     ]
    },
    {
     "data": {
      "application/vnd.jupyter.widget-view+json": {
       "model_id": "e05b873cdaaf45c88d24a01bc757ac13",
       "version_major": 2,
       "version_minor": 0
      },
      "text/plain": [
       "Generating Expectations:   0%|          | 0/8 [00:00<?, ?it/s]"
      ]
     },
     "metadata": {},
     "output_type": "display_data"
    },
    {
     "data": {
      "application/vnd.jupyter.widget-view+json": {
       "model_id": "",
       "version_major": 2,
       "version_minor": 0
      },
      "text/plain": [
       "Profiling Dataset:         0%|          | 0/1 [00:00<?, ?it/s]"
      ]
     },
     "metadata": {},
     "output_type": "display_data"
    },
    {
     "data": {
      "application/vnd.jupyter.widget-view+json": {
       "model_id": "",
       "version_major": 2,
       "version_minor": 0
      },
      "text/plain": [
       "Profiling Dataset:         0%|          | 0/0 [00:00<?, ?it/s]"
      ]
     },
     "metadata": {},
     "output_type": "display_data"
    },
    {
     "data": {
      "application/vnd.jupyter.widget-view+json": {
       "model_id": "",
       "version_major": 2,
       "version_minor": 0
      },
      "text/plain": [
       "Profiling Dataset:         0%|          | 0/0 [00:00<?, ?it/s]"
      ]
     },
     "metadata": {},
     "output_type": "display_data"
    },
    {
     "data": {
      "application/vnd.jupyter.widget-view+json": {
       "model_id": "",
       "version_major": 2,
       "version_minor": 0
      },
      "text/plain": [
       "Profiling Dataset:         0%|          | 0/12 [00:00<?, ?it/s]"
      ]
     },
     "metadata": {},
     "output_type": "display_data"
    },
    {
     "data": {
      "application/vnd.jupyter.widget-view+json": {
       "model_id": "",
       "version_major": 2,
       "version_minor": 0
      },
      "text/plain": [
       "Profiling Dataset:         0%|          | 0/11 [00:00<?, ?it/s]"
      ]
     },
     "metadata": {},
     "output_type": "display_data"
    },
    {
     "data": {
      "application/vnd.jupyter.widget-view+json": {
       "model_id": "",
       "version_major": 2,
       "version_minor": 0
      },
      "text/plain": [
       "Profiling Dataset:         0%|          | 0/0 [00:00<?, ?it/s]"
      ]
     },
     "metadata": {},
     "output_type": "display_data"
    },
    {
     "data": {
      "application/vnd.jupyter.widget-view+json": {
       "model_id": "",
       "version_major": 2,
       "version_minor": 0
      },
      "text/plain": [
       "Profiling Dataset:         0%|          | 0/3 [00:00<?, ?it/s]"
      ]
     },
     "metadata": {},
     "output_type": "display_data"
    },
    {
     "data": {
      "application/vnd.jupyter.widget-view+json": {
       "model_id": "",
       "version_major": 2,
       "version_minor": 0
      },
      "text/plain": [
       "Profiling Dataset:         0%|          | 0/8 [00:00<?, ?it/s]"
      ]
     },
     "metadata": {},
     "output_type": "display_data"
    }
   ],
   "source": [
    "result = data_context.assistants.onboarding.run(batch_request=batch_request)"
   ]
  },
  {
   "cell_type": "markdown",
   "id": "54ef4a07-05fe-4d09-b4cf-57bc257c9484",
   "metadata": {},
   "source": [
    "**Note**: There a"
   ]
  },
  {
   "cell_type": "markdown",
   "id": "6646fd0b",
   "metadata": {},
   "source": [
    "# Explore `DataAssistantResult` by plotting"
   ]
  },
  {
   "cell_type": "markdown",
   "id": "bc3d2948",
   "metadata": {},
   "source": [
    "The resulting `DataAssistantResult` can be best explored by plotting. For each `Domain` considered (`Table` and `Column` in our case), the plots will display the value for each `Batch` (36 in total). "
   ]
  },
  {
   "cell_type": "code",
   "execution_count": 13,
   "id": "dd4c66e9",
   "metadata": {},
   "outputs": [
    {
     "data": {
      "text/html": [
       "\n",
       "            <style>\n",
       "            span.vega-bind-name {\n",
       "                color: #8784FF;\n",
       "                font-family: Verdana;\n",
       "                font-size: 14px;\n",
       "                font-weight: bold;\n",
       "            }\n",
       "            form.vega-bindings {\n",
       "                color: #1B2A4D;\n",
       "                font-family: Verdana;\n",
       "                font-size: 14px;\n",
       "                position: absolute;\n",
       "                left: 75px;\n",
       "                top: 28px;\n",
       "            }\n",
       "            </style>\n",
       "        "
      ],
      "text/plain": [
       "<IPython.core.display.HTML object>"
      ]
     },
     "metadata": {},
     "output_type": "display_data"
    },
    {
     "data": {
      "text/html": [
       "\n",
       "            <style>\n",
       "            .widget-inline-hbox .widget-label {\n",
       "                color: #8784FF;\n",
       "                font-family: Verdana;\n",
       "                font-size: 14px;\n",
       "                font-weight: bold;\n",
       "            }\n",
       "            .widget-dropdown > select {\n",
       "                padding-right: 21px;\n",
       "                padding-left: 3px;\n",
       "                color: #1B2A4D;\n",
       "                font-family: Verdana;\n",
       "                font-size: 14px;\n",
       "                height: 20px;\n",
       "                line-height: 14px;\n",
       "                background-size: 20px;\n",
       "                border-radius: 2px;\n",
       "            }\n",
       "            </style>\n",
       "        "
      ],
      "text/plain": [
       "<IPython.core.display.HTML object>"
      ]
     },
     "metadata": {},
     "output_type": "display_data"
    },
    {
     "data": {
      "application/vnd.jupyter.widget-view+json": {
       "model_id": "e243680a33f34ca69eaaf4857e213852",
       "version_major": 2,
       "version_minor": 0
      },
      "text/plain": [
       "interactive(children=(Dropdown(description='Select Plot: ', layout=Layout(margin='0px', width='max-content'), …"
      ]
     },
     "metadata": {},
     "output_type": "display_data"
    },
    {
     "data": {
      "text/plain": [
       "PlotResult(charts=[alt.LayerChart(...), alt.Chart(...), alt.LayerChart(...), alt.LayerChart(...), alt.LayerChart(...), alt.LayerChart(...), alt.LayerChart(...), alt.LayerChart(...), alt.LayerChart(...), alt.LayerChart(...), alt.LayerChart(...), alt.LayerChart(...), alt.LayerChart(...), alt.LayerChart(...), alt.LayerChart(...), alt.LayerChart(...), alt.LayerChart(...), alt.LayerChart(...), alt.LayerChart(...), alt.LayerChart(...), alt.LayerChart(...), alt.LayerChart(...), alt.LayerChart(...), alt.LayerChart(...), alt.LayerChart(...), alt.LayerChart(...), alt.LayerChart(...), alt.LayerChart(...), alt.LayerChart(...), alt.LayerChart(...), alt.LayerChart(...), alt.LayerChart(...), alt.LayerChart(...), alt.LayerChart(...), alt.LayerChart(...), alt.LayerChart(...), alt.LayerChart(...), alt.LayerChart(...), alt.LayerChart(...), alt.LayerChart(...), alt.LayerChart(...), alt.LayerChart(...), alt.LayerChart(...), alt.LayerChart(...), alt.LayerChart(...), alt.LayerChart(...), alt.LayerChart(...), alt.LayerChart(...), alt.LayerChart(...), alt.LayerChart(...), alt.LayerChart(...), alt.LayerChart(...), alt.LayerChart(...), alt.LayerChart(...), alt.LayerChart(...), alt.LayerChart(...), alt.LayerChart(...), alt.LayerChart(...), alt.LayerChart(...), alt.LayerChart(...), alt.LayerChart(...), alt.LayerChart(...), alt.LayerChart(...), alt.LayerChart(...), alt.LayerChart(...)])"
      ]
     },
     "execution_count": 13,
     "metadata": {},
     "output_type": "execute_result"
    }
   ],
   "source": [
    "result.plot_metrics()"
   ]
  },
  {
   "cell_type": "markdown",
   "id": "e28f7a78",
   "metadata": {},
   "source": [
    "An additional layer of information that can be retrieved from the `DataAssistantResult` is the `prescriptive` information, which corresponds to the range values of the `Expectations` that result from the `DataAssistant` run. \n",
    "\n",
    "For example the `vendor_id` plot will show that the range of distinct `vendor_id` values ranged from 2-3 across all of our `Batches`, as indicated by the blue band around the plotted values. These values correspond to the `max_value` and `min_value` for the resulting `Expectation`, `expect_column_unique_value_count_to_be_between`."
   ]
  },
  {
   "cell_type": "code",
   "execution_count": 14,
   "id": "03353ac8",
   "metadata": {},
   "outputs": [
    {
     "data": {
      "text/html": [
       "\n",
       "            <style>\n",
       "            span.vega-bind-name {\n",
       "                color: #8784FF;\n",
       "                font-family: Verdana;\n",
       "                font-size: 14px;\n",
       "                font-weight: bold;\n",
       "            }\n",
       "            form.vega-bindings {\n",
       "                color: #1B2A4D;\n",
       "                font-family: Verdana;\n",
       "                font-size: 14px;\n",
       "                position: absolute;\n",
       "                left: 75px;\n",
       "                top: 28px;\n",
       "            }\n",
       "            </style>\n",
       "        "
      ],
      "text/plain": [
       "<IPython.core.display.HTML object>"
      ]
     },
     "metadata": {},
     "output_type": "display_data"
    },
    {
     "data": {
      "text/html": [
       "\n",
       "            <style>\n",
       "            .widget-inline-hbox .widget-label {\n",
       "                color: #8784FF;\n",
       "                font-family: Verdana;\n",
       "                font-size: 14px;\n",
       "                font-weight: bold;\n",
       "            }\n",
       "            .widget-dropdown > select {\n",
       "                padding-right: 21px;\n",
       "                padding-left: 3px;\n",
       "                color: #1B2A4D;\n",
       "                font-family: Verdana;\n",
       "                font-size: 14px;\n",
       "                height: 20px;\n",
       "                line-height: 14px;\n",
       "                background-size: 20px;\n",
       "                border-radius: 2px;\n",
       "            }\n",
       "            </style>\n",
       "        "
      ],
      "text/plain": [
       "<IPython.core.display.HTML object>"
      ]
     },
     "metadata": {},
     "output_type": "display_data"
    },
    {
     "data": {
      "application/vnd.jupyter.widget-view+json": {
       "model_id": "3b81f225c4c64b87a1428d7ac802e508",
       "version_major": 2,
       "version_minor": 0
      },
      "text/plain": [
       "interactive(children=(Dropdown(description='Select Plot: ', layout=Layout(margin='0px', width='max-content'), …"
      ]
     },
     "metadata": {},
     "output_type": "display_data"
    },
    {
     "data": {
      "text/plain": [
       "PlotResult(charts=[alt.LayerChart(...), alt.Chart(...), alt.LayerChart(...), alt.LayerChart(...), alt.LayerChart(...), alt.LayerChart(...), alt.LayerChart(...), alt.LayerChart(...), alt.LayerChart(...), alt.LayerChart(...), alt.LayerChart(...), alt.LayerChart(...), alt.LayerChart(...), alt.LayerChart(...), alt.LayerChart(...), alt.LayerChart(...), alt.LayerChart(...), alt.LayerChart(...), alt.LayerChart(...), alt.LayerChart(...), alt.LayerChart(...), alt.LayerChart(...), alt.LayerChart(...), alt.LayerChart(...), alt.LayerChart(...), alt.LayerChart(...), alt.LayerChart(...), alt.LayerChart(...), alt.LayerChart(...), alt.LayerChart(...), alt.LayerChart(...), alt.LayerChart(...), alt.LayerChart(...), alt.LayerChart(...), alt.LayerChart(...), alt.LayerChart(...), alt.LayerChart(...), alt.LayerChart(...), alt.LayerChart(...), alt.LayerChart(...), alt.LayerChart(...), alt.LayerChart(...), alt.LayerChart(...), alt.LayerChart(...), alt.LayerChart(...), alt.LayerChart(...), alt.LayerChart(...), alt.LayerChart(...), alt.LayerChart(...), alt.LayerChart(...), alt.LayerChart(...), alt.LayerChart(...), alt.LayerChart(...), alt.LayerChart(...), alt.LayerChart(...), alt.LayerChart(...), alt.LayerChart(...), alt.LayerChart(...), alt.LayerChart(...), alt.LayerChart(...), alt.LayerChart(...), alt.LayerChart(...), alt.LayerChart(...), alt.LayerChart(...), alt.LayerChart(...)])"
      ]
     },
     "execution_count": 14,
     "metadata": {},
     "output_type": "execute_result"
    }
   ],
   "source": [
    "result.plot_expectations_and_metrics()"
   ]
  },
  {
   "cell_type": "markdown",
   "id": "0437017f",
   "metadata": {},
   "source": [
    "# Save `ExpectationSuite`"
   ]
  },
  {
   "cell_type": "markdown",
   "id": "090b0dbc",
   "metadata": {},
   "source": [
    "Finally, we can save the `ExpectationConfiguration` objext resulting from the `DataAssistant` in our `ExpectationSuite` and then use the `DataContext`'s `save_expectation_suite()` method to pass in our `ExpectationSuite`, updated with the `DataAssistant`."
   ]
  },
  {
   "cell_type": "code",
   "execution_count": 10,
   "id": "e4db1dfc-defd-4b83-bc65-0e77ccd67cd7",
   "metadata": {},
   "outputs": [],
   "source": [
    "suite: ExpectationSuite = ExpectationSuite(expectation_suite_name=\"taxi_data_suite\")"
   ]
  },
  {
   "cell_type": "code",
   "execution_count": 11,
   "id": "eaf5d924-1c10-4eab-b6ed-2063d0a73871",
   "metadata": {},
   "outputs": [],
   "source": [
    "resulting_configurations: List[ExpectationConfiguration] = suite.add_expectation_configurations(expectation_configurations=result.expectation_configurations)"
   ]
  },
  {
   "cell_type": "code",
   "execution_count": 12,
   "id": "9426227a",
   "metadata": {},
   "outputs": [],
   "source": [
    "data_context.save_expectation_suite(expectation_suite=suite)"
   ]
  },
  {
   "cell_type": "markdown",
   "id": "0d02f5e8",
   "metadata": {},
   "source": [
    "## Optional: Clean-up Directory\n"
   ]
  },
  {
   "cell_type": "markdown",
   "id": "f973a7ef",
   "metadata": {},
   "source": [
    "As part of running this notebook, the `DataAssistant` will create a number of ExpectationSuite configurations in the `great_expectations/expectations/tmp` directory. Optionally run the following cell to clean up the directory."
   ]
  },
  {
   "cell_type": "code",
   "execution_count": 14,
   "id": "4857e285",
   "metadata": {},
   "outputs": [],
   "source": [
    "#import shutil, os\n",
    "#shutil.rmtree(\"great_expectations/expectations/tmp\")\n",
    "#os.remove(\"great_expectations/expectations/.ge_store_backend_id\")\n",
    "#os.remove(\"great_expectations/expectations/taxi_data_suite.json\")"
   ]
  },
  {
   "cell_type": "markdown",
   "id": "1ef7f096-5b28-4a0a-81c1-829d57c9be23",
   "metadata": {},
   "source": [
    "# Appendix"
   ]
  },
  {
   "cell_type": "markdown",
   "id": "b7c0e068-933a-4258-b75f-f396539753ed",
   "metadata": {},
   "source": [
    "Additional parameters for *run*"
   ]
  },
  {
   "cell_type": "code",
   "execution_count": null,
   "id": "66ef3703-1695-4af6-99df-86b03d53f2d2",
   "metadata": {},
   "outputs": [],
   "source": []
  },
  {
   "cell_type": "markdown",
   "id": "9e19e3d1-7344-4c77-9660-85f4e25f950e",
   "metadata": {},
   "source": [
    "Statistics that goes on?"
   ]
  },
  {
   "cell_type": "code",
   "execution_count": null,
   "id": "211d372e-1900-432d-9cef-6757cb766a55",
   "metadata": {},
   "outputs": [],
   "source": []
  },
  {
   "cell_type": "code",
   "execution_count": null,
   "id": "ba88c89d-bcb6-4841-8fad-6611a5d40207",
   "metadata": {},
   "outputs": [],
   "source": []
  }
 ],
 "metadata": {
  "kernelspec": {
   "display_name": "Python 3 (ipykernel)",
   "language": "python",
   "name": "python3"
  },
  "language_info": {
   "codemirror_mode": {
    "name": "ipython",
    "version": 3
   },
   "file_extension": ".py",
   "mimetype": "text/x-python",
   "name": "python",
   "nbconvert_exporter": "python",
   "pygments_lexer": "ipython3",
   "version": "3.8.3"
  }
 },
 "nbformat": 4,
 "nbformat_minor": 5
}
